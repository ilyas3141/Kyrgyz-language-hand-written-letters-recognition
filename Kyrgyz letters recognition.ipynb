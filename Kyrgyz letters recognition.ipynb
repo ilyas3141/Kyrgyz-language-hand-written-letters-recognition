{
 "cells": [
  {
   "cell_type": "markdown",
   "metadata": {},
   "source": [
    "This code was made during the Datathon \"Teach Artificial Intelligence to recognize Kyrgyz language\" supported by The Cramer Project and Educational Initiatives Foundation. The main author of this code is our team's captain Aman Urumbekov (https://www.kaggle.com/amanurumbekov, https://github.com/Bezdarnost). Lately this challenge from the Datathon was posted on Kaggle too:https://www.kaggle.com/datasets/ilgizzhumaev/database-of-36-handwritten-kyrgyz-letters"
   ]
  },
  {
   "cell_type": "code",
   "execution_count": 1,
   "metadata": {},
   "outputs": [],
   "source": [
    "import warnings \n",
    "warnings.filterwarnings('ignore')\n",
    "warnings.filterwarnings('ignore')\n",
    "import torch\n",
    "import torchvision\n",
    "import pandas as pd\n",
    "import numpy as np\n",
    "import matplotlib.pyplot as plt\n",
    "import seaborn as sns\n",
    "sns.set_context(\"paper\", font_scale = 1, rc={\"grid.linewidth\": 3})\n",
    "pd.set_option('display.max_rows', 100, 'display.max_columns', 400)\n",
    "from torch.utils.data import DataLoader,Dataset,ConcatDataset\n",
    "from torchvision import transforms\n",
    "import torch.optim as optim\n",
    "from sklearn.model_selection import train_test_split\n",
    "import torch.nn as nn\n",
    "import torch\n",
    "import torchvision\n",
    "import pandas as pd\n",
    "import numpy as np\n",
    "import matplotlib.pyplot as plt\n",
    "import seaborn as sns\n",
    "sns.set_context(\"paper\", font_scale = 1, rc={\"grid.linewidth\": 3})\n",
    "pd.set_option('display.max_rows', 100, 'display.max_columns', 400)\n",
    "from torch.utils.data import DataLoader,Dataset,ConcatDataset\n",
    "from torchvision import transforms\n",
    "import torch.optim as optim\n",
    "from sklearn.model_selection import train_test_split\n",
    "import torch.nn as nn"
   ]
  },
  {
   "cell_type": "code",
   "execution_count": 2,
   "metadata": {},
   "outputs": [],
   "source": [
    "train_data=pd.read_csv('train_test.csv')\n",
    "test_data=pd.read_csv('test.csv')\n",
    "sample_data = pd.read_csv('sample_submission.csv')"
   ]
  },
  {
   "cell_type": "code",
   "execution_count": 3,
   "metadata": {},
   "outputs": [
    {
     "name": "stdout",
     "output_type": "stream",
     "text": [
      "<class 'pandas.core.frame.DataFrame'>\n",
      "RangeIndex: 80213 entries, 0 to 80212\n",
      "Columns: 2501 entries, label to pixel_2499\n",
      "dtypes: int64(2501)\n",
      "memory usage: 1.5 GB\n",
      "None\n",
      "\n",
      "\n",
      "<class 'pandas.core.frame.DataFrame'>\n",
      "RangeIndex: 8904 entries, 0 to 8903\n",
      "Columns: 2500 entries, pixel_0 to pixel_2499\n",
      "dtypes: int64(2500)\n",
      "memory usage: 169.8 MB\n",
      "None\n",
      "\n",
      "\n",
      "<class 'pandas.core.frame.DataFrame'>\n",
      "RangeIndex: 8904 entries, 0 to 8903\n",
      "Data columns (total 2 columns):\n",
      " #   Column  Non-Null Count  Dtype \n",
      "---  ------  --------------  ----- \n",
      " 0   id      8904 non-null   object\n",
      " 1   label   8904 non-null   int64 \n",
      "dtypes: int64(1), object(1)\n",
      "memory usage: 139.2+ KB\n",
      "None\n"
     ]
    }
   ],
   "source": [
    "print(train_data.info())\n",
    "print('\\n')\n",
    "print(test_data.info())\n",
    "print('\\n')\n",
    "print(sample_data.info())"
   ]
  },
  {
   "cell_type": "code",
   "execution_count": 4,
   "metadata": {},
   "outputs": [],
   "source": [
    "train_df = train_data.iloc[:, 1:].values\n",
    "y_train = train_data.iloc[:, 0].values\n",
    "test_df = test_data.values"
   ]
  },
  {
   "cell_type": "code",
   "execution_count": 5,
   "metadata": {},
   "outputs": [
    {
     "data": {
      "image/png": "[encoded data removed]",
      "text/plain": [
       "<Figure size 1440x576 with 8 Axes>"
      ]
     },
     "metadata": {
      "needs_background": "light"
     },
     "output_type": "display_data"
    }
   ],
   "source": [
    "image_1 = train_df.reshape(train_df.shape[0], 50, 50) #rehsaping it to plot image\n",
    "plt.figure(figsize=(20,8))\n",
    "for i in range(10,18):\n",
    "    plt.subplot(231 + (i))\n",
    "    plt.imshow(image_1[i], cmap=\"gray\")\n",
    "    plt.title('Label:'+str(y_train[i]),fontweight='bold',size=20)"
   ]
  },
  {
   "cell_type": "code",
   "execution_count": 6,
   "metadata": {},
   "outputs": [],
   "source": [
    "img_tform_1 = transforms.Compose([\n",
    "    transforms.ToPILImage(),transforms.ToTensor(),transforms.Normalize((0.5),(0.5))])\n",
    "\n",
    "img_tform_2 = transforms.Compose([\n",
    "    transforms.ToPILImage(),transforms.RandomRotation(10),transforms.ToTensor(),transforms.Normalize((0.5),(0.5))])\n",
    "\n",
    "img_tform_3 = transforms.Compose([\n",
    "    transforms.ToPILImage(),transforms.RandomRotation(20),transforms.ToTensor(),transforms.Normalize((0.5),(0.5))])"
   ]
  },
  {
   "cell_type": "code",
   "execution_count": 7,
   "metadata": {},
   "outputs": [],
   "source": [
    "class KyrMnistDataset(Dataset):\n",
    "    def __init__(self, features,transform=img_tform_1): \n",
    "        self.features = features.iloc[:,1:].values.reshape((-1,50,50)).astype(np.uint8)\n",
    "        self.targets = torch.from_numpy(features.label.values)\n",
    "        self.transform=transform\n",
    "        \n",
    "    def __len__(self):\n",
    "        return (self.features.shape[0])\n",
    "    \n",
    "    def __getitem__(self, idx):\n",
    "        return self.transform(self.features[idx]),self.targets[idx]\n",
    "\n",
    "    \n",
    "class TestDataset(Dataset):\n",
    "    def __init__(self, features,transform=img_tform_1):\n",
    "        self.features = features.values.reshape((-1,50,50)).astype(np.uint8)\n",
    "        self.targets = None\n",
    "        self.transform=transform\n",
    "        \n",
    "    def __len__(self):\n",
    "        return (self.features.shape[0])\n",
    "    \n",
    "    def __getitem__(self, idx):\n",
    "        return self.transform(self.features[idx])"
   ]
  },
  {
   "cell_type": "code",
   "execution_count": 8,
   "metadata": {},
   "outputs": [],
   "source": [
    "def create_dataloaders(seed, test_size=0.1, df=train_data, batch_size=32):\n",
    "\n",
    "    train_df, val_df = train_test_split(df,test_size=test_size,random_state=seed)\n",
    "\n",
    "    train_data_1 = KyrMnistDataset(train_df)\n",
    "    train_data_2 = KyrMnistDataset(train_df, img_tform_2)\n",
    "    train_data_3 = KyrMnistDataset(train_df, img_tform_3)\n",
    "\n",
    "    train_final = ConcatDataset([train_data_1, train_data_2, train_data_3])\n",
    "\n",
    "    val_data = KyrMnistDataset(val_df)\n",
    "    \n",
    "    train_loader = torch.utils.data.DataLoader(train_final, batch_size=batch_size, shuffle=True)\n",
    "    valid_loader = torch.utils.data.DataLoader(val_data, batch_size=batch_size, shuffle=False)\n",
    "\n",
    "    return train_loader, valid_loader"
   ]
  },
  {
   "cell_type": "code",
   "execution_count": 9,
   "metadata": {},
   "outputs": [],
   "source": [
    "class Model(nn.Module):\n",
    "    def __init__(self):\n",
    "        super().__init__()\n",
    "        \n",
    "        self.conv1 = nn.Sequential(\n",
    "            nn.Conv2d(1, 64, kernel_size=3),  #48x48x64\n",
    "            nn.BatchNorm2d(64),\n",
    "            nn.LeakyReLU(inplace=True), # inplace=True helps to save some memory\n",
    "            \n",
    "            nn.Conv2d(64, 64, kernel_size=3), # 46x46x64\n",
    "            nn.BatchNorm2d(64),\n",
    "            nn.LeakyReLU(inplace=True),\n",
    "            \n",
    "            nn.Conv2d(64, 64, kernel_size=5, stride=2, padding=24), # 46x46x64 (same padding)\n",
    "            nn.BatchNorm2d(64),\n",
    "            nn.LeakyReLU(inplace=True),\n",
    "            \n",
    "            nn.MaxPool2d(2, 2), #23x23x64\n",
    "            nn.Dropout2d(0.25),\n",
    "        \n",
    "            nn.Conv2d(64, 128, kernel_size=3), #21x21x128\n",
    "            nn.BatchNorm2d(128),\n",
    "            nn.LeakyReLU(inplace=True), \n",
    "            \n",
    "            nn.Conv2d(128, 128, kernel_size=3), #19x19x128\n",
    "            nn.BatchNorm2d(128),\n",
    "            nn.LeakyReLU(inplace=True), \n",
    "            \n",
    "            nn.Conv2d(128, 128, kernel_size=5, stride=2, padding=10), # 18x18x128(same padding)\n",
    "            nn.BatchNorm2d(128),\n",
    "            nn.LeakyReLU(inplace=True),\n",
    "            \n",
    "            nn.MaxPool2d(2, 2),# 8x8x128\n",
    "            nn.Dropout2d(0.25),\n",
    "    \n",
    "            nn.Conv2d(128, 256, kernel_size=8), # 1x256\n",
    "            nn.BatchNorm2d(256),\n",
    "            nn.LeakyReLU(inplace=True),\n",
    "            nn.Dropout2d(0.25)\n",
    "        )\n",
    "        \n",
    "        self.fc = nn.Sequential(\n",
    "            nn.Linear(256*1*1, 37)\n",
    "        )\n",
    "        \n",
    "    def forward(self, x):\n",
    "        x = self.conv1(x)\n",
    "        x = x.view(-1, 256*1*1)\n",
    "        x = self.fc(x)\n",
    "        \n",
    "        return x"
   ]
  },
  {
   "cell_type": "code",
   "execution_count": 10,
   "metadata": {},
   "outputs": [],
   "source": [
    "def train_fn(model, optimizer, scheduler, loss_fn, dataloader, device):\n",
    "    model.train() \n",
    "    final_loss = 0  \n",
    "    train_acc=0\n",
    "    total=0\n",
    "    train_preds=[]\n",
    "    \n",
    "    for features,labels in dataloader:\n",
    "        optimizer.zero_grad() \n",
    "        inputs, targets = features.to(device), labels.to(device) \n",
    "        outputs = model(inputs) \n",
    "        loss = loss_fn(outputs, targets) \n",
    "        loss.backward() \n",
    "        optimizer.step()  \n",
    "        scheduler.step() \n",
    "        total+=len(targets)\n",
    "        final_loss += loss.item() \n",
    "        train_preds.append(outputs.sigmoid().detach().cpu().numpy()) \n",
    "        _, predicted = torch.max(outputs, 1)\n",
    "        train_acc+=((predicted == targets).sum().item())\n",
    "    final_loss /= len(dataloader) \n",
    "    train_preds = np.concatenate(train_preds)\n",
    "    train_acc=(train_acc/total)*100\n",
    "    \n",
    "    return final_loss,train_acc\n",
    "\n",
    "\n",
    "def valid_fn(model, loss_fn, dataloader, device):\n",
    "    model.eval() \n",
    "    final_loss = 0\n",
    "    valid_preds = []\n",
    "    val_acc=0\n",
    "    total=0\n",
    "    for features,labels in dataloader:\n",
    "        inputs, targets = features.to(device), labels.to(device)\n",
    "        outputs = model(inputs) \n",
    "        loss = loss_fn(outputs, targets) \n",
    "        total+=len(targets)\n",
    "        final_loss += loss.item() \n",
    "        valid_preds.append(outputs.sigmoid().detach().cpu().numpy()) \n",
    "        _, predicted = torch.max(outputs, 1)\n",
    "        val_acc+=((predicted == targets).sum().item())\n",
    "              \n",
    "    final_loss /= len(dataloader)\n",
    "    valid_preds = np.concatenate(valid_preds)\n",
    "    val_acc=(val_acc/total)*100\n",
    "    \n",
    "    return final_loss, valid_preds,val_acc"
   ]
  },
  {
   "cell_type": "code",
   "execution_count": 11,
   "metadata": {},
   "outputs": [],
   "source": [
    "DEVICE = 'cuda'\n",
    "EPOCHS = 12\n",
    "BATCH_SIZE = 128\n",
    "LEARNING_RATE = 1e-3\n",
    "WEIGHT_DECAY = 1e-8\n",
    "seed=42\n",
    "#EARLY_STOPPING_STEPS = 10\n",
    "#EARLY_STOP = False\n",
    "#Dropout_model_val=0.2619422201258426"
   ]
  },
  {
   "cell_type": "code",
   "execution_count": 12,
   "metadata": {},
   "outputs": [],
   "source": [
    "def run_training(seed):\n",
    "    # train and data val dataloaders\n",
    "    train_loader, valid_loader= create_dataloaders(seed=seed)\n",
    "    model=Model()\n",
    "    model.to(DEVICE)\n",
    "    #using adam optimizer for optimization\n",
    "    optimizer = torch.optim.Adam(model.parameters(), lr=LEARNING_RATE,weight_decay=WEIGHT_DECAY)\n",
    "    scheduler = optim.lr_scheduler.OneCycleLR(optimizer=optimizer, pct_start=0.1, div_factor=1e2, \n",
    "                                              max_lr=1e-2, epochs=EPOCHS, steps_per_epoch=len(train_loader))\n",
    "    loss_fn = nn.CrossEntropyLoss()\n",
    "    for epoch in range(EPOCHS):\n",
    "        train_loss,train_acc = train_fn(model, optimizer,scheduler, loss_fn, train_loader, DEVICE) #training loss and accuracy\n",
    "        print(f\"EPOCH: {epoch}, train_loss: {train_loss},, train_accuracy:{train_acc}\")\n",
    "        val_loss, val_preds, val_acc = valid_fn(model, loss_fn, valid_loader, DEVICE) #validation loss and accuracy\n",
    "        print(f\"EPOCH: {epoch}, valid_loss: {val_loss}, val_accuracy:{val_acc}\")\n",
    "        \n",
    "    test_pred = torch.LongTensor()        \n",
    "    testdataset = TestDataset(test_data)\n",
    "    testloader = torch.utils.data.DataLoader(testdataset, batch_size=BATCH_SIZE, shuffle=False)\n",
    "    for features in testloader:\n",
    "        features=features.to(DEVICE)\n",
    "        outputs=model(features)\n",
    "        _, predicted = torch.max(outputs, 1)\n",
    "        test_pred = torch.cat((test_pred.to(DEVICE), predicted.to(DEVICE)), dim=0)\n",
    "    pred_df['predict'] = test_pred.cpu().numpy()"
   ]
  },
  {
   "cell_type": "code",
   "execution_count": null,
   "metadata": {},
   "outputs": [],
   "source": [
    "pred_df = sample_data.copy()\n",
    "run_training(seed)"
   ]
  },
  {
   "cell_type": "code",
   "execution_count": null,
   "metadata": {},
   "outputs": [],
   "source": [
    "final_pred = pred_df['predict']"
   ]
  },
  {
   "cell_type": "code",
   "execution_count": null,
   "metadata": {},
   "outputs": [],
   "source": [
    "df1=pd.read_csv('sample_submission.csv')"
   ]
  },
  {
   "cell_type": "code",
   "execution_count": null,
   "metadata": {},
   "outputs": [],
   "source": [
    "df1.drop(columns='label',inplace=True)"
   ]
  },
  {
   "cell_type": "code",
   "execution_count": null,
   "metadata": {},
   "outputs": [],
   "source": [
    "df1['label']=final_pred"
   ]
  },
  {
   "cell_type": "code",
   "execution_count": null,
   "metadata": {},
   "outputs": [],
   "source": [
    "df1.to_csv('12345.csv', index=False)"
   ]
  }
 ],
 "metadata": {
  "kernelspec": {
   "display_name": "Python 3",
   "language": "python",
   "name": "python3"
  },
  "language_info": {
   "codemirror_mode": {
    "name": "ipython",
    "version": 3
   },
   "file_extension": ".py",
   "mimetype": "text/x-python",
   "name": "python",
   "nbconvert_exporter": "python",
   "pygments_lexer": "ipython3",
   "version": "3.8.3"
  }
 },
 "nbformat": 4,
 "nbformat_minor": 5
}
